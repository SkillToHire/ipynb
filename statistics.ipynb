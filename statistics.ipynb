{
 "cells": [
  {
   "cell_type": "code",
   "execution_count": 1,
   "metadata": {},
   "outputs": [],
   "source": [
    "import numpy as np\n",
    "import pandas as pd \n",
    "import matplotlib.pyplot as plt\n",
    "import seaborn as sns"
   ]
  },
  {
   "cell_type": "markdown",
   "metadata": {},
   "source": [
    "###### mean"
   ]
  },
  {
   "cell_type": "code",
   "execution_count": 2,
   "metadata": {},
   "outputs": [
    {
     "name": "stdout",
     "output_type": "stream",
     "text": [
      "Mean of X 7.0\n"
     ]
    }
   ],
   "source": [
    "import numpy as np\n",
    "X=[8,6,8,8,7,5,7,8,8,5,5,9]\n",
    "### Converting a list to an numpy array\n",
    "X=np.array(X)\n",
    "### Calculate Mean\n",
    "M=X.mean()\n",
    "print(\"Mean of X\",M)"
   ]
  },
  {
   "cell_type": "markdown",
   "metadata": {},
   "source": [
    "##### median"
   ]
  },
  {
   "cell_type": "code",
   "execution_count": 3,
   "metadata": {},
   "outputs": [
    {
     "name": "stdout",
     "output_type": "stream",
     "text": [
      "Median of X: 7.5\n"
     ]
    }
   ],
   "source": [
    "import numpy as np\n",
    "X=[8,6,8,8,7,5,7,8,8,5,5,9]\n",
    "### Converting a list to an numpy array\n",
    "X=np.array(X)\n",
    "### Calculate Median\n",
    "Median=np.median(X)\n",
    "print(\"Median of X:\",Median)"
   ]
  },
  {
   "cell_type": "markdown",
   "metadata": {},
   "source": [
    "##### mode"
   ]
  },
  {
   "cell_type": "code",
   "execution_count": 5,
   "metadata": {},
   "outputs": [
    {
     "data": {
      "text/plain": [
       "ModeResult(mode=array([8]), count=array([5]))"
      ]
     },
     "execution_count": 5,
     "metadata": {},
     "output_type": "execute_result"
    }
   ],
   "source": [
    "from scipy import stats\n",
    "A=[8,6,8,8,7,5,7,8,8,5,5,9]\n",
    "### Converting a list to an numpy array\n",
    "A=np.array(A)\n",
    "### Calculate Mode using Stats module\n",
    "stats.mode(A)"
   ]
  },
  {
   "cell_type": "code",
   "execution_count": 6,
   "metadata": {},
   "outputs": [
    {
     "data": {
      "text/plain": [
       "5.5"
      ]
     },
     "execution_count": 6,
     "metadata": {},
     "output_type": "execute_result"
    }
   ],
   "source": [
    "import numpy as np\n",
    "A=[4,6,7,8,2,5,3,8,7,5,4,50]\n",
    "A=np.array(A)\n",
    "Median=np.median(A)\n",
    "Median"
   ]
  },
  {
   "cell_type": "code",
   "execution_count": 7,
   "metadata": {},
   "outputs": [
    {
     "data": {
      "text/plain": [
       "<matplotlib.collections.PathCollection at 0x1ae25a0fec8>"
      ]
     },
     "execution_count": 7,
     "metadata": {},
     "output_type": "execute_result"
    },
    {
     "data": {
      "image/png": "[encoded data removed]",
      "text/plain": [
       "<Figure size 432x288 with 1 Axes>"
      ]
     },
     "metadata": {
      "needs_background": "light"
     },
     "output_type": "display_data"
    }
   ],
   "source": [
    "plt.title(\"How the data is distributed between the points\")\n",
    "plt.scatter(A,A)"
   ]
  },
  {
   "cell_type": "code",
   "execution_count": 8,
   "metadata": {},
   "outputs": [
    {
     "data": {
      "text/plain": [
       "9.083333333333334"
      ]
     },
     "execution_count": 8,
     "metadata": {},
     "output_type": "execute_result"
    }
   ],
   "source": [
    "np.mean(A)"
   ]
  },
  {
   "cell_type": "code",
   "execution_count": 9,
   "metadata": {},
   "outputs": [
    {
     "data": {
      "text/plain": [
       "454150.0"
      ]
     },
     "execution_count": 9,
     "metadata": {},
     "output_type": "execute_result"
    }
   ],
   "source": [
    "9.083*50000"
   ]
  },
  {
   "cell_type": "code",
   "execution_count": 10,
   "metadata": {},
   "outputs": [
    {
     "data": {
      "text/plain": [
       "2500000"
      ]
     },
     "execution_count": 10,
     "metadata": {},
     "output_type": "execute_result"
    }
   ],
   "source": [
    "50*50000"
   ]
  },
  {
   "cell_type": "code",
   "execution_count": 11,
   "metadata": {},
   "outputs": [
    {
     "data": {
      "text/plain": [
       "275000.0"
      ]
     },
     "execution_count": 11,
     "metadata": {},
     "output_type": "execute_result"
    }
   ],
   "source": [
    "5.5*50000"
   ]
  },
  {
   "cell_type": "code",
   "execution_count": 12,
   "metadata": {},
   "outputs": [
    {
     "data": {
      "text/plain": [
       "array([ 2,  3,  4,  4,  5,  5,  6,  7,  7,  8,  8, 50])"
      ]
     },
     "execution_count": 12,
     "metadata": {},
     "output_type": "execute_result"
    }
   ],
   "source": [
    "A.sort()\n",
    "A"
   ]
  },
  {
   "cell_type": "code",
   "execution_count": 13,
   "metadata": {},
   "outputs": [],
   "source": [
    "A=[7,6,7,7,8,5,8,7,7,5,5]"
   ]
  },
  {
   "cell_type": "code",
   "execution_count": 14,
   "metadata": {},
   "outputs": [
    {
     "data": {
      "text/plain": [
       "1.1570247933884297"
      ]
     },
     "execution_count": 14,
     "metadata": {},
     "output_type": "execute_result"
    }
   ],
   "source": [
    "np.var(A)"
   ]
  },
  {
   "cell_type": "code",
   "execution_count": 23,
   "metadata": {},
   "outputs": [
    {
     "data": {
      "text/plain": [
       "0.28307748538011696"
      ]
     },
     "execution_count": 23,
     "metadata": {},
     "output_type": "execute_result"
    }
   ],
   "source": [
    "15.49/54.72"
   ]
  },
  {
   "cell_type": "markdown",
   "metadata": {},
   "source": [
    "#### variacne"
   ]
  },
  {
   "cell_type": "code",
   "execution_count": 10,
   "metadata": {},
   "outputs": [
    {
     "name": "stdout",
     "output_type": "stream",
     "text": [
      "Variance of X:  239.83\n"
     ]
    }
   ],
   "source": [
    "import numpy as np\n",
    "X=[30,57,47,58,56,50,52,49,54,98,51]\n",
    "### converting list to a numpy array\n",
    "X=np.array(X)\n",
    "var=X.var()\n",
    "print(\"Variance of X: \",round(var,2))"
   ]
  },
  {
   "cell_type": "markdown",
   "metadata": {},
   "source": [
    "###### Standard Deviation"
   ]
  },
  {
   "cell_type": "code",
   "execution_count": 11,
   "metadata": {},
   "outputs": [
    {
     "name": "stdout",
     "output_type": "stream",
     "text": [
      "Standard of X:  15.49\n"
     ]
    }
   ],
   "source": [
    "import numpy as np\n",
    "X=[30,57,47,58,56,50,52,49,54,98,51]\n",
    "### converting list to a numpy array\n",
    "X=np.array(X)\n",
    "std=X.std()\n",
    "print(\"Standard of X: \",round(std,2))"
   ]
  },
  {
   "cell_type": "code",
   "execution_count": 26,
   "metadata": {},
   "outputs": [
    {
     "data": {
      "image/png": "[encoded data removed]",
      "text/plain": [
       "<Figure size 720x432 with 1 Axes>"
      ]
     },
     "metadata": {
      "needs_background": "light"
     },
     "output_type": "display_data"
    },
    {
     "name": "stdout",
     "output_type": "stream",
     "text": [
      "26.040000000000003\n",
      "51.4\n"
     ]
    }
   ],
   "source": [
    "import numpy as np\n",
    "import matplotlib.pyplot as plt\n",
    "import seaborn as sns\n",
    "X1=[22,120,130,137,154,23,25,30,31,33,34,36,40,41,42,45,47,48,43,50,51,52,53,70,50,82,100,150,200]\n",
    "X=[40,57,47,58,56,50,52,49,54,51]\n",
    "plt.figure(figsize=(10,6))\n",
    "sns.kdeplot(X,shade=True)\n",
    "sns.kdeplot(X1,shade=True)\n",
    "std1=np.array(X).std()\n",
    "std2=np.array(X1).std()\n",
    "plt.legend([\"Standard deviation:\"+str(std1),\"Standard deviation:\"+str(std2)])\n",
    "plt.title(\"Standard deviation with different values\")\n",
    "plt.show()\n",
    "print(np.array(X).var())\n",
    "print(np.array(X).mean())"
   ]
  },
  {
   "cell_type": "code",
   "execution_count": null,
   "metadata": {},
   "outputs": [],
   "source": []
  },
  {
   "cell_type": "code",
   "execution_count": 27,
   "metadata": {},
   "outputs": [
    {
     "data": {
      "text/plain": [
       "46.181593689687475"
      ]
     },
     "execution_count": 27,
     "metadata": {},
     "output_type": "execute_result"
    }
   ],
   "source": [
    "np.array(X1).std()"
   ]
  },
  {
   "cell_type": "code",
   "execution_count": 28,
   "metadata": {},
   "outputs": [
    {
     "data": {
      "text/plain": [
       "array([-1.17729036, -1.74183401,  0.37943505, -1.17556704, -1.04445942,\n",
       "        1.82751362, -0.84402724, -0.92121029,  1.05397392,  1.41505665])"
      ]
     },
     "execution_count": 28,
     "metadata": {},
     "output_type": "execute_result"
    }
   ],
   "source": [
    "np.random.standard_normal(10)"
   ]
  },
  {
   "cell_type": "code",
   "execution_count": 29,
   "metadata": {},
   "outputs": [
    {
     "data": {
      "text/plain": [
       "22.23076923076923"
      ]
     },
     "execution_count": 29,
     "metadata": {},
     "output_type": "execute_result"
    }
   ],
   "source": [
    "a=[10,15,20,21,22,20,20,15,16,25,30,35,40]\n",
    "a=np.array(a)\n",
    "a.mean()"
   ]
  },
  {
   "cell_type": "code",
   "execution_count": 30,
   "metadata": {},
   "outputs": [
    {
     "data": {
      "text/plain": [
       "65.8698224852071"
      ]
     },
     "execution_count": 30,
     "metadata": {},
     "output_type": "execute_result"
    }
   ],
   "source": [
    "a.var()"
   ]
  },
  {
   "cell_type": "code",
   "execution_count": 31,
   "metadata": {},
   "outputs": [
    {
     "data": {
      "text/plain": [
       "8.116022577913833"
      ]
     },
     "execution_count": 31,
     "metadata": {},
     "output_type": "execute_result"
    }
   ],
   "source": [
    "a.std()"
   ]
  },
  {
   "cell_type": "code",
   "execution_count": 32,
   "metadata": {},
   "outputs": [
    {
     "data": {
      "text/plain": [
       "(-3, 3)"
      ]
     },
     "execution_count": 32,
     "metadata": {},
     "output_type": "execute_result"
    },
    {
     "data": {
      "image/png": "[encoded data removed]",
      "text/plain": [
       "<Figure size 432x288 with 1 Axes>"
      ]
     },
     "metadata": {
      "needs_background": "light"
     },
     "output_type": "display_data"
    }
   ],
   "source": [
    "import matplotlib.pyplot as plt\n",
    "s=[-1,0,1]\n",
    "sns.distplot(s,hist=True,kde=True)#[0.00,0.01,0.02,0.03,0.02,0.01,0.00])\n",
    "plt.xlim(-3,3)"
   ]
  },
  {
   "cell_type": "markdown",
   "metadata": {},
   "source": [
    "##### Normal Distribution"
   ]
  },
  {
   "cell_type": "code",
   "execution_count": 12,
   "metadata": {},
   "outputs": [
    {
     "data": {
      "text/plain": [
       "(-3, 3)"
      ]
     },
     "execution_count": 12,
     "metadata": {},
     "output_type": "execute_result"
    },
    {
     "data": {
      "image/png": "[encoded data removed]",
      "text/plain": [
       "<Figure size 720x432 with 1 Axes>"
      ]
     },
     "metadata": {
      "needs_background": "light"
     },
     "output_type": "display_data"
    }
   ],
   "source": [
    "import matplotlib.pyplot as plt\n",
    "import seaborn as sns\n",
    "from scipy import stats\n",
    "x= np.random.normal(loc=0,scale=0.8,size=100)\n",
    "m=x.mean()\n",
    "plt.figure(figsize=(10,6))\n",
    "sns.distplot(x,hist=False,kde=False,shade=True,fit=stats.gamma);\n",
    "plt.plot(np.full((10,1),x.mean()),[0.00,0.05,0.10,0.15,0.20,0.25,0.30,0.35,0.40,0.45],linestyle='--',c='g')\n",
    "plt.hlines(0.25,xmin=-1,xmax=+1,color='r')\n",
    "plt.hlines(0.05,xmin=-2,xmax=+2,color='r')\n",
    "plt.hlines(0.00,xmin=-3,xmax=+3,color='r')\n",
    "plt.text(round(m,2),0.45, 'mean ='+str(round(m,2)))\n",
    "plt.text(-0.75,0.26, '34%')\n",
    "plt.text(0.5,0.26, '34%')\n",
    "plt.text(-0.5,0.23,\"  one std total 68%\")\n",
    "plt.text(-1.5,0.06,\"47.5%\")\n",
    "plt.text(1.2,0.06,\"47.5%\")\n",
    "plt.text(-0.5,0.06,\"two std total 95%\")\n",
    "plt.text(-2,0.01, \"49.8%\")\n",
    "plt.text(1.7,0.01, \"49.8%\")\n",
    "plt.text(-0.5,0.01,\"three std total 99.6%\")\n",
    "plt.title(\"variations of standard deviations\")\n",
    "plt.xlim(-3,3)"
   ]
  },
  {
   "cell_type": "code",
   "execution_count": 34,
   "metadata": {},
   "outputs": [
    {
     "data": {
      "text/plain": [
       "0.07620726113533768"
      ]
     },
     "execution_count": 34,
     "metadata": {},
     "output_type": "execute_result"
    }
   ],
   "source": [
    "np.random.normal(loc=0, size=100).mean()"
   ]
  },
  {
   "cell_type": "code",
   "execution_count": 35,
   "metadata": {},
   "outputs": [
    {
     "data": {
      "text/plain": [
       "-0.053307418138675934"
      ]
     },
     "execution_count": 35,
     "metadata": {},
     "output_type": "execute_result"
    }
   ],
   "source": [
    "x.mean()"
   ]
  },
  {
   "cell_type": "code",
   "execution_count": 36,
   "metadata": {},
   "outputs": [
    {
     "data": {
      "text/plain": [
       "<matplotlib.collections.LineCollection at 0x1ae27781f88>"
      ]
     },
     "execution_count": 36,
     "metadata": {},
     "output_type": "execute_result"
    },
    {
     "data": {
      "image/png": "[encoded data removed]",
      "text/plain": [
       "<Figure size 432x288 with 1 Axes>"
      ]
     },
     "metadata": {
      "needs_background": "light"
     },
     "output_type": "display_data"
    }
   ],
   "source": [
    "plt.hlines(5,xmin=-1,xmax=+1,color='r')"
   ]
  },
  {
   "cell_type": "code",
   "execution_count": 37,
   "metadata": {},
   "outputs": [
    {
     "data": {
      "text/plain": [
       "15.176000000000002"
      ]
     },
     "execution_count": 37,
     "metadata": {},
     "output_type": "execute_result"
    }
   ],
   "source": [
    "54.2*0.28"
   ]
  },
  {
   "cell_type": "markdown",
   "metadata": {},
   "source": []
  },
  {
   "cell_type": "code",
   "execution_count": 38,
   "metadata": {},
   "outputs": [
    {
     "data": {
      "text/plain": [
       "(array([1., 2., 1., 2., 1., 2., 2., 3., 0., 2.]),\n",
       " array([ 6.2 ,  7.68,  9.16, 10.64, 12.12, 13.6 , 15.08, 16.56, 18.04,\n",
       "        19.52, 21.  ]),\n",
       " <a list of 10 Patch objects>)"
      ]
     },
     "execution_count": 38,
     "metadata": {},
     "output_type": "execute_result"
    },
    {
     "data": {
      "image/png": "[encoded data removed]",
      "text/plain": [
       "<Figure size 432x288 with 1 Axes>"
      ]
     },
     "metadata": {
      "needs_background": "light"
     },
     "output_type": "display_data"
    }
   ],
   "source": [
    "#### exmaple i have random samples dataset of weights with the following data points in it\n",
    "ages=[6.2,8.2,9,10.5,11.2,13.2,15,16,17,15,17,16,18,20,21,12]\n",
    "plt.hist(ages)"
   ]
  },
  {
   "cell_type": "code",
   "execution_count": 39,
   "metadata": {},
   "outputs": [
    {
     "data": {
      "text/plain": [
       "14.08125"
      ]
     },
     "execution_count": 39,
     "metadata": {},
     "output_type": "execute_result"
    }
   ],
   "source": [
    "np.array(ages).mean()"
   ]
  },
  {
   "cell_type": "code",
   "execution_count": 40,
   "metadata": {},
   "outputs": [
    {
     "data": {
      "text/plain": [
       "15.0"
      ]
     },
     "execution_count": 40,
     "metadata": {},
     "output_type": "execute_result"
    }
   ],
   "source": [
    "np.median(np.array(ages))"
   ]
  },
  {
   "cell_type": "code",
   "execution_count": 41,
   "metadata": {},
   "outputs": [
    {
     "data": {
      "text/plain": [
       "<matplotlib.axes._subplots.AxesSubplot at 0x1ae27881088>"
      ]
     },
     "execution_count": 41,
     "metadata": {},
     "output_type": "execute_result"
    },
    {
     "data": {
      "image/png": "[encoded data removed]",
      "text/plain": [
       "<Figure size 432x288 with 1 Axes>"
      ]
     },
     "metadata": {
      "needs_background": "light"
     },
     "output_type": "display_data"
    }
   ],
   "source": [
    "sns.distplot(np.array([3,4,3,1,2,3,9,5,6,7,4,8]))"
   ]
  },
  {
   "cell_type": "code",
   "execution_count": 42,
   "metadata": {},
   "outputs": [],
   "source": [
    "weights=[30.04,29.31,31.15,31.22,30.19,30.49,28.38,30.32,28.14,27.80,30.08,30.56,32.55,29.36,29.05,28.96,32.57]"
   ]
  },
  {
   "cell_type": "code",
   "execution_count": 43,
   "metadata": {},
   "outputs": [
    {
     "data": {
      "text/plain": [
       "<matplotlib.axes._subplots.AxesSubplot at 0x1ae278f9488>"
      ]
     },
     "execution_count": 43,
     "metadata": {},
     "output_type": "execute_result"
    },
    {
     "data": {
      "image/png": "[encoded data removed]",
      "text/plain": [
       "<Figure size 432x288 with 1 Axes>"
      ]
     },
     "metadata": {
      "needs_background": "light"
     },
     "output_type": "display_data"
    }
   ],
   "source": [
    "sns.distplot(np.array(weights))"
   ]
  },
  {
   "cell_type": "code",
   "execution_count": 44,
   "metadata": {},
   "outputs": [
    {
     "data": {
      "text/plain": [
       "30.01"
      ]
     },
     "execution_count": 44,
     "metadata": {},
     "output_type": "execute_result"
    }
   ],
   "source": [
    "np.mean(weights)"
   ]
  },
  {
   "cell_type": "code",
   "execution_count": 45,
   "metadata": {},
   "outputs": [
    {
     "name": "stdout",
     "output_type": "stream",
     "text": [
      "mean of weights : 30.01\n"
     ]
    }
   ],
   "source": [
    "weights=[30.04,29.31,31.15,31.22,30.19,30.49,28.38,30.32,28.14,27.80,30.08,30.56,32.55,29.36,29.05,28.96,32.57]\n",
    "m1=np.mean(weights)\n",
    "print(\"mean of weights :\",m1)"
   ]
  },
  {
   "cell_type": "code",
   "execution_count": 46,
   "metadata": {},
   "outputs": [
    {
     "name": "stdout",
     "output_type": "stream",
     "text": [
      "mean of the weights : 30.01\n",
      "\r\n",
      "sort order of the weights:  [27.8  28.14 28.38 28.96 29.05 29.31 29.36 30.04 30.08 30.19 30.32 30.49\n",
      " 30.56 31.15 31.22 32.55 32.57]\n",
      "\r\n",
      "median of the weights : 30.08\n"
     ]
    }
   ],
   "source": [
    "### calculate mean\n",
    "m1=np.mean(weights)\n",
    "print(\"mean of the weights :\",m1)\n",
    "print(\"\\r\")\n",
    "### to calculate median first we need to sort the data set in ascending orders\n",
    "s=np.sort(weights)\n",
    "print(\"sort order of the weights: \",s)\n",
    "print(\"\\r\")\n",
    "#### calculate median\n",
    "m=np.median(s)\n",
    "print(\"median of the weights :\",m)"
   ]
  },
  {
   "cell_type": "code",
   "execution_count": 47,
   "metadata": {},
   "outputs": [
    {
     "data": {
      "text/plain": [
       "Text(0.5, 0, 'weights')"
      ]
     },
     "execution_count": 47,
     "metadata": {},
     "output_type": "execute_result"
    },
    {
     "data": {
      "image/png": "[encoded data removed]",
      "text/plain": [
       "<Figure size 432x288 with 1 Axes>"
      ]
     },
     "metadata": {
      "needs_background": "light"
     },
     "output_type": "display_data"
    }
   ],
   "source": [
    "plt.grid(True)\n",
    "sns.distplot(weights)\n",
    "m1=np.mean(weights)\n",
    "plt.text(round(m1,2),0.35, 'mean ='+str(round(m1,2)))\n",
    "plt.title(\"distribution of the data\")\n",
    "plt.xlabel(\"weights\")"
   ]
  },
  {
   "cell_type": "code",
   "execution_count": 48,
   "metadata": {},
   "outputs": [],
   "source": [
    "##### mean distribution of the data series and it's used of the machine"
   ]
  },
  {
   "cell_type": "code",
   "execution_count": 49,
   "metadata": {},
   "outputs": [],
   "source": [
    "x=[1,2,3,4,5,6]\n",
    "y=[3,5,7,5,3,1]"
   ]
  },
  {
   "cell_type": "code",
   "execution_count": 50,
   "metadata": {},
   "outputs": [
    {
     "data": {
      "text/plain": [
       "<matplotlib.axes._subplots.AxesSubplot at 0x1ae279feec8>"
      ]
     },
     "execution_count": 50,
     "metadata": {},
     "output_type": "execute_result"
    },
    {
     "data": {
      "image/png": "[encoded data removed]",
      "text/plain": [
       "<Figure size 432x288 with 1 Axes>"
      ]
     },
     "metadata": {
      "needs_background": "light"
     },
     "output_type": "display_data"
    }
   ],
   "source": [
    "import seaborn as sns\n",
    "sns.distplot(y)"
   ]
  },
  {
   "cell_type": "code",
   "execution_count": 51,
   "metadata": {},
   "outputs": [],
   "source": [
    "#### poisson distribution"
   ]
  },
  {
   "cell_type": "code",
   "execution_count": 52,
   "metadata": {},
   "outputs": [],
   "source": [
    "k=[100,200,400,600,800]\n"
   ]
  },
  {
   "cell_type": "code",
   "execution_count": 53,
   "metadata": {},
   "outputs": [
    {
     "data": {
      "text/plain": [
       "-1112448000"
      ]
     },
     "execution_count": 53,
     "metadata": {},
     "output_type": "execute_result"
    }
   ],
   "source": [
    "import numpy as np\n",
    "np.power(150,10)"
   ]
  },
  {
   "cell_type": "code",
   "execution_count": 54,
   "metadata": {},
   "outputs": [
    {
     "data": {
      "text/plain": [
       "2980.9579870417283"
      ]
     },
     "execution_count": 54,
     "metadata": {},
     "output_type": "execute_result"
    }
   ],
   "source": [
    "np.exp(8)"
   ]
  },
  {
   "cell_type": "code",
   "execution_count": 55,
   "metadata": {},
   "outputs": [
    {
     "data": {
      "text/plain": [
       "2978.4863846013386"
      ]
     },
     "execution_count": 55,
     "metadata": {},
     "output_type": "execute_result"
    }
   ],
   "source": [
    "np.power(2.718,8)"
   ]
  },
  {
   "cell_type": "code",
   "execution_count": 56,
   "metadata": {},
   "outputs": [
    {
     "data": {
      "text/plain": [
       "120"
      ]
     },
     "execution_count": 56,
     "metadata": {},
     "output_type": "execute_result"
    }
   ],
   "source": [
    "import math\n",
    "math.factorial(5)"
   ]
  },
  {
   "cell_type": "code",
   "execution_count": 57,
   "metadata": {},
   "outputs": [
    {
     "name": "stdout",
     "output_type": "stream",
     "text": [
      "probabilty of k=1 is 0.0\n",
      "probabilty of k=4 is 0.0006\n",
      "probabilty of k=6 is 0.0048\n",
      "probabilty of k=7 is 0.0104\n",
      "probabilty of k=10 is 0.0001\n"
     ]
    }
   ],
   "source": [
    "import numpy as np\n",
    "import math\n",
    "k=[1,4,6,7,10]\n",
    "lambd=15\n",
    "for i in range(len(k)):\n",
    "    ## formula (lambda^k) *(e^-lambda)/ k!\n",
    "    p=(np.power(lambd,k[i])*np.exp(-lambd))/math.factorial(k[i])\n",
    "    print(\"probabilty of k=\"+str(k[i])+\" is\",round(p,4))"
   ]
  },
  {
   "cell_type": "code",
   "execution_count": 58,
   "metadata": {},
   "outputs": [
    {
     "data": {
      "text/plain": [
       "4.588534807527386e-06"
      ]
     },
     "execution_count": 58,
     "metadata": {},
     "output_type": "execute_result"
    }
   ],
   "source": [
    "np.power(15,1)*np.exp(-15)/1"
   ]
  },
  {
   "cell_type": "code",
   "execution_count": 59,
   "metadata": {},
   "outputs": [
    {
     "data": {
      "text/plain": [
       "3.059023205018258e-07"
      ]
     },
     "execution_count": 59,
     "metadata": {},
     "output_type": "execute_result"
    }
   ],
   "source": [
    "np.exp(-15)"
   ]
  },
  {
   "cell_type": "code",
   "execution_count": 60,
   "metadata": {},
   "outputs": [
    {
     "data": {
      "text/plain": [
       "4.588534807527386e-06"
      ]
     },
     "execution_count": 60,
     "metadata": {},
     "output_type": "execute_result"
    }
   ],
   "source": [
    "4.588534807527386e-06"
   ]
  },
  {
   "cell_type": "code",
   "execution_count": 61,
   "metadata": {},
   "outputs": [
    {
     "data": {
      "text/plain": [
       "45.0"
      ]
     },
     "execution_count": 61,
     "metadata": {},
     "output_type": "execute_result"
    }
   ],
   "source": [
    "import math\n",
    "math.factorial(10)/(math.factorial(2)*math.factorial(8))"
   ]
  },
  {
   "cell_type": "code",
   "execution_count": 62,
   "metadata": {},
   "outputs": [
    {
     "data": {
      "text/plain": [
       "0.23347444049999985"
      ]
     },
     "execution_count": 62,
     "metadata": {},
     "output_type": "execute_result"
    }
   ],
   "source": [
    "import numpy as np\n",
    "np.power(0.7,8)*0.09*45"
   ]
  },
  {
   "cell_type": "code",
   "execution_count": 63,
   "metadata": {},
   "outputs": [
    {
     "data": {
      "text/plain": [
       "0.09"
      ]
     },
     "execution_count": 63,
     "metadata": {},
     "output_type": "execute_result"
    }
   ],
   "source": [
    "np.power(0.3,2)"
   ]
  },
  {
   "cell_type": "markdown",
   "metadata": {},
   "source": [
    "#### Binomial Distribution"
   ]
  },
  {
   "cell_type": "code",
   "execution_count": 64,
   "metadata": {},
   "outputs": [
    {
     "name": "stdout",
     "output_type": "stream",
     "text": [
      "Probability of men 8 men in 10 data points: 0.23347444049999994\n"
     ]
    }
   ],
   "source": [
    "n=10\n",
    "x=8\n",
    "p=0.7\n",
    "q=1-p\n",
    "#### Binomial Distribution\n",
    "import numpy as np\n",
    "import math\n",
    "ncx= math.factorial(n)/(math.factorial(n-x)*math.factorial(x))\n",
    "px= np.power(p,x)\n",
    "qn= np.power(q,(n-x))\n",
    "prob=ncx*px*qn\n",
    "print(\"Probability of men 8 men in 10 data points:\",prob)"
   ]
  },
  {
   "cell_type": "markdown",
   "metadata": {},
   "source": [
    "##### continous probability"
   ]
  },
  {
   "cell_type": "code",
   "execution_count": 66,
   "metadata": {},
   "outputs": [
    {
     "data": {
      "image/png": "[encoded data removed]",
      "text/plain": [
       "<Figure size 720x432 with 1 Axes>"
      ]
     },
     "metadata": {
      "needs_background": "light"
     },
     "output_type": "display_data"
    }
   ],
   "source": [
    "import seaborn as sns\n",
    "#### random weights\n",
    "k2=np.random.normal(loc=30,scale=1.5,size=100)\n",
    "m=np.mean(k2)\n",
    "plt.figure(figsize=(10,6))\n",
    "sns.distplot(k2,color=\"green\")\n",
    "plt.plot(np.full((7,1),k2.mean()),[0.00,0.05,0.10,0.15,0.20,0.25,0.30],linestyle='--',c='black')\n",
    "plt.text(round(m,2),0.29, 'mean ='+str(round(m,2)))\n",
    "plt.title(\"Continous Probability distribution\")\n",
    "plt.xlabel(\"Weights\")\n",
    "plt.ylabel(\"Probabilities\")\n",
    "plt.show()"
   ]
  },
  {
   "cell_type": "markdown",
   "metadata": {},
   "source": [
    "##### poisson distribution"
   ]
  },
  {
   "cell_type": "code",
   "execution_count": 68,
   "metadata": {},
   "outputs": [
    {
     "name": "stdout",
     "output_type": "stream",
     "text": [
      "probabilty of k=1 is 0.0005\n",
      "probabilty of k=2 is 0.0023\n",
      "probabilty of k=3 is 0.0076\n",
      "probabilty of k=4 is 0.0189\n",
      "probabilty of k=5 is 0.0378\n",
      "probabilty of k=6 is 0.0631\n",
      "probabilty of k=8 is 0.1126\n",
      "probabilty of k=9 is 0.1251\n",
      "probabilty of k=10 is 0.0176\n",
      "probabilty of k=7 is 0.0901\n",
      "probabilty of k=11 is 0.0014\n",
      "probabilty of k=12 is -0.0001\n"
     ]
    }
   ],
   "source": [
    "import numpy as np\n",
    "import math\n",
    "k=[1,2,3,4,5,6,8,9,10,7,11,12]\n",
    "k3=[]\n",
    "lambd=10\n",
    "for i in range(len(k)):\n",
    "    ## formula (lambda^k) *(e^-lambda)/ k!\n",
    "    p=(np.power(lambd,k[i])*np.exp(-lambd))/math.factorial(k[i])\n",
    "    k3.append(p)\n",
    "    print(\"probabilty of k=\"+str(k[i])+\" is\",round(p,4))"
   ]
  },
  {
   "cell_type": "code",
   "execution_count": 69,
   "metadata": {},
   "outputs": [
    {
     "data": {
      "text/plain": [
       "<matplotlib.axes._subplots.AxesSubplot at 0x1ae276c28c8>"
      ]
     },
     "execution_count": 69,
     "metadata": {},
     "output_type": "execute_result"
    },
    {
     "data": {
      "image/png": "[encoded data removed]",
      "text/plain": [
       "<Figure size 432x288 with 1 Axes>"
      ]
     },
     "metadata": {
      "needs_background": "light"
     },
     "output_type": "display_data"
    }
   ],
   "source": [
    "import matplotlib.pyplot as plt\n",
    "sns.barplot(x=np.array(k),y=np.array(k3))"
   ]
  },
  {
   "cell_type": "code",
   "execution_count": 70,
   "metadata": {},
   "outputs": [
    {
     "data": {
      "text/plain": [
       "[0.00045399929762484856,\n",
       " 0.0022699964881242427,\n",
       " 0.007566654960414142,\n",
       " 0.018916637401035354,\n",
       " 0.03783327480207071,\n",
       " 0.06305545800345118,\n",
       " 0.11259903214901998,\n",
       " 0.1251100357211333,\n",
       " 0.01764133335640144,\n",
       " 0.09007922571921599,\n",
       " 0.001382752728810601,\n",
       " -6.89413134691794e-05]"
      ]
     },
     "execution_count": 70,
     "metadata": {},
     "output_type": "execute_result"
    }
   ],
   "source": [
    "k3"
   ]
  },
  {
   "cell_type": "code",
   "execution_count": 71,
   "metadata": {},
   "outputs": [
    {
     "data": {
      "text/plain": [
       "<matplotlib.axes._subplots.AxesSubplot at 0x1ae277d6d88>"
      ]
     },
     "execution_count": 71,
     "metadata": {},
     "output_type": "execute_result"
    },
    {
     "data": {
      "image/png": "[encoded data removed]",
      "text/plain": [
       "<Figure size 432x288 with 1 Axes>"
      ]
     },
     "metadata": {
      "needs_background": "light"
     },
     "output_type": "display_data"
    }
   ],
   "source": [
    "x1=np.random.normal(loc=22,scale=8.11,size=100)\n",
    "sns.distplot(x1)"
   ]
  },
  {
   "cell_type": "code",
   "execution_count": 72,
   "metadata": {},
   "outputs": [
    {
     "data": {
      "text/plain": [
       "array([10.47582957, 36.49035714, 18.46316828, 32.52584912, 30.15150481,\n",
       "       18.6489808 , 27.49881238, 26.09577781, 27.55192259, 21.24408621,\n",
       "       23.18875016, 27.3215066 , 43.89822322, 12.79608016, 20.75654657,\n",
       "       26.47769499, 26.70624461, 26.1447346 , 15.43213122, 23.77042773,\n",
       "       36.42046756, 11.98350959, 30.03081069, 15.19495226, 22.55739093,\n",
       "       20.49180988, 31.23593633, 26.19597403, 21.19443754, 42.20860922,\n",
       "       19.6108601 , 22.78806415, 21.16866825, 17.34459468, 27.40340433,\n",
       "       14.20308497, 26.61887001, 23.88755349, 10.65311448, 31.41405751,\n",
       "       20.56356307, 26.16639832, 24.22313148, 18.39738788, 33.29398293,\n",
       "       27.20825427, 32.84608134, 18.56295531, 18.66266412, 28.28253086,\n",
       "       13.0465578 , 33.36353563, 12.32632873, 28.19183221, 19.83791165,\n",
       "       16.82867825, 23.7220175 , 22.47313981, 33.41441863, 15.29536822,\n",
       "       21.66463095, 41.78616929,  7.42829886, 18.8135736 , 15.42267682,\n",
       "       24.03634963, 18.70507823, 22.25778893, 31.75408381, 22.55293591,\n",
       "       23.65346686, 26.76968784, 31.10260402, 16.01512776, 17.44972407,\n",
       "       32.22720334, 11.44425473, 21.3479663 , 28.33906985, 10.88805639,\n",
       "       26.56897502, 23.21384935, 21.93129804, 28.99447106, 15.97266503,\n",
       "       15.07358951, 21.52157277, 15.4404725 , 28.20313074, 28.26343287,\n",
       "       25.11695726, 33.24873252, 15.66926783, 23.96022405, -0.20271174,\n",
       "       25.15907901, 13.5577531 ,  8.65408869, 23.5683638 , 12.24724035])"
      ]
     },
     "execution_count": 72,
     "metadata": {},
     "output_type": "execute_result"
    }
   ],
   "source": [
    "x1"
   ]
  },
  {
   "cell_type": "markdown",
   "metadata": {},
   "source": [
    "#### central tendency"
   ]
  },
  {
   "cell_type": "code",
   "execution_count": 73,
   "metadata": {},
   "outputs": [
    {
     "data": {
      "image/png": "[encoded data removed]",
      "text/plain": [
       "<Figure size 432x288 with 1 Axes>"
      ]
     },
     "metadata": {
      "needs_background": "light"
     },
     "output_type": "display_data"
    }
   ],
   "source": [
    "import pandas as pd\n",
    "import numpy as np\n",
    "import random\n",
    "import matplotlib.pyplot as plt \n",
    "import seaborn as sns\n",
    "r=[random.randrange(0,90,1) for i in range(100)]\n",
    "d=pd.DataFrame(r)\n",
    "plt.hist(d)\n",
    "plt.show()"
   ]
  },
  {
   "cell_type": "code",
   "execution_count": 74,
   "metadata": {},
   "outputs": [
    {
     "data": {
      "image/png": "[encoded data removed]",
      "text/plain": [
       "<Figure size 432x288 with 1 Axes>"
      ]
     },
     "metadata": {
      "needs_background": "light"
     },
     "output_type": "display_data"
    }
   ],
   "source": [
    "m=[]\n",
    "for i in range(1000):\n",
    "    r_sample=random.randrange(30,90)\n",
    "    m.append(np.mean(random.sample(r,r_sample)))\n",
    "d1=pd.DataFrame(m)\n",
    "d1.hist(bins=100)\n",
    "plt.title(\"random samples mean distribution\")\n",
    "plt.show()"
   ]
  },
  {
   "cell_type": "code",
   "execution_count": 75,
   "metadata": {},
   "outputs": [
    {
     "ename": "TypeError",
     "evalue": "'module' object is not callable",
     "output_type": "error",
     "traceback": [
      "\u001b[1;31m---------------------------------------------------------------------------\u001b[0m",
      "\u001b[1;31mTypeError\u001b[0m                                 Traceback (most recent call last)",
      "\u001b[1;32m<ipython-input-75-dac534afb0c2>\u001b[0m in \u001b[0;36m<module>\u001b[1;34m\u001b[0m\n\u001b[0;32m      1\u001b[0m \u001b[1;31m#### percentiles\u001b[0m\u001b[1;33m\u001b[0m\u001b[1;33m\u001b[0m\u001b[1;33m\u001b[0m\u001b[0m\n\u001b[0;32m      2\u001b[0m \u001b[0mm\u001b[0m\u001b[1;33m=\u001b[0m\u001b[0mlist\u001b[0m\u001b[1;33m(\u001b[0m\u001b[0mrange\u001b[0m\u001b[1;33m(\u001b[0m\u001b[1;36m1\u001b[0m\u001b[1;33m,\u001b[0m\u001b[1;36m25\u001b[0m\u001b[1;33m)\u001b[0m\u001b[1;33m)\u001b[0m\u001b[1;33m\u001b[0m\u001b[1;33m\u001b[0m\u001b[0m\n\u001b[1;32m----> 3\u001b[1;33m \u001b[0mnp\u001b[0m\u001b[1;33m.\u001b[0m\u001b[0mrandom\u001b[0m\u001b[1;33m(\u001b[0m\u001b[0mmean\u001b[0m\u001b[1;33m=\u001b[0m\u001b[1;36m50\u001b[0m\u001b[1;33m,\u001b[0m\u001b[1;33m)\u001b[0m\u001b[1;33m\u001b[0m\u001b[1;33m\u001b[0m\u001b[0m\n\u001b[0m",
      "\u001b[1;31mTypeError\u001b[0m: 'module' object is not callable"
     ]
    }
   ],
   "source": [
    "#### percentiles\n",
    "m=list(range(1,25))\n",
    "np.random(mean=50,)"
   ]
  },
  {
   "cell_type": "code",
   "execution_count": null,
   "metadata": {},
   "outputs": [],
   "source": [
    "import numpy as np\n",
    "import pandas as pd\n"
   ]
  },
  {
   "cell_type": "code",
   "execution_count": 76,
   "metadata": {},
   "outputs": [],
   "source": [
    "k= np.random.normal(loc=0,scale=0.8,size=100)"
   ]
  },
  {
   "cell_type": "code",
   "execution_count": 77,
   "metadata": {},
   "outputs": [
    {
     "name": "stdout",
     "output_type": "stream",
     "text": [
      "[[ 1.00000000e+02]\n",
      " [ 4.01157912e-02]\n",
      " [ 7.30582737e-01]\n",
      " [-1.67357188e+00]\n",
      " [-4.40422464e-01]\n",
      " [-7.81650326e-03]\n",
      " [ 4.88123520e-01]\n",
      " [ 2.15993868e+00]]\n",
      "Index(['count', 'mean', 'std', 'min', '25%', '50%', '75%', 'max'], dtype='object')\n"
     ]
    },
    {
     "data": {
      "text/plain": [
       "0   -0.440422\n",
       "Name: 25%, dtype: float64"
      ]
     },
     "execution_count": 77,
     "metadata": {},
     "output_type": "execute_result"
    }
   ],
   "source": [
    "z=pd.DataFrame(k).describe()\n",
    "print(z.values)\n",
    "print(z.index)\n",
    "z.loc[\"25%\",]"
   ]
  },
  {
   "cell_type": "markdown",
   "metadata": {},
   "source": [
    "#### percentiles"
   ]
  },
  {
   "cell_type": "code",
   "execution_count": 78,
   "metadata": {},
   "outputs": [
    {
     "data": {
      "image/png": "[encoded data removed]",
      "text/plain": [
       "<Figure size 720x432 with 1 Axes>"
      ]
     },
     "metadata": {
      "needs_background": "light"
     },
     "output_type": "display_data"
    }
   ],
   "source": [
    "import numpy as np\n",
    "import pandas as pd\n",
    "k= np.random.normal(loc=0,scale=0.8,size=100)\n",
    "z=pd.DataFrame(k).describe()\n",
    "plt.figure(figsize=(10,6))\n",
    "sns.kdeplot(k,shade=True)\n",
    "plt.plot(np.full((9,1),z.loc[\"25%\",]),[0.00,0.05,0.10,0.15,0.20,0.25,0.30,0.35,0.40],\n",
    "         linestyle='--',c='g',label=\"25% percentile\")\n",
    "plt.plot(np.full((9,1),z.loc[\"50%\",]),[0.00,0.05,0.10,0.15,0.20,0.25,0.30,0.35,0.40],\n",
    "         linestyle='--',c='b',label=\"50% percentile\")\n",
    "plt.plot(np.full((9,1),z.loc[\"75%\",]),[0.00,0.05,0.10,0.15,0.20,0.25,0.30,0.35,0.40],\n",
    "         linestyle='--',c='black',label=\"75% percentile\")\n",
    "plt.text(z.loc[\"25%\",]-0.2,0.1,'25%')\n",
    "plt.text(z.loc[\"50%\",]-0.2,0.1,'50%')\n",
    "plt.text(z.loc[\"75%\",]-0.2,0.1,'75%')\n",
    "plt.legend(loc=0)\n",
    "plt.title(\"Percentile Caculation\")\n",
    "plt.show()"
   ]
  },
  {
   "cell_type": "markdown",
   "metadata": {},
   "source": [
    "#### Quartiles"
   ]
  },
  {
   "cell_type": "code",
   "execution_count": 2,
   "metadata": {},
   "outputs": [
    {
     "data": {
      "image/png": "[encoded data removed]",
      "text/plain": [
       "<Figure size 720x288 with 1 Axes>"
      ]
     },
     "metadata": {
      "needs_background": "light"
     },
     "output_type": "display_data"
    }
   ],
   "source": [
    "import numpy as np\n",
    "import pandas as pd\n",
    "import matplotlib.pyplot as plt\n",
    "import seaborn as sns\n",
    "plt.figure(figsize=(10,4))\n",
    "k= np.random.normal(loc=0,scale=0.8,size=100)\n",
    "z1=pd.DataFrame(k).quantile([0.25,0.50,0.75])\n",
    "plt.text(z1.loc[0.25,],-0.1,'Q1')\n",
    "plt.text(z1.loc[0.50,],-0.1,'Q2')\n",
    "plt.text(z1.loc[0.75,],-0.1,'Q3')\n",
    "sns.boxplot(k,color=\"green\")\n",
    "plt.title(\"Quartiles\")\n",
    "plt.show()"
   ]
  },
  {
   "cell_type": "markdown",
   "metadata": {},
   "source": [
    "#### inner quartiles range"
   ]
  },
  {
   "cell_type": "code",
   "execution_count": 13,
   "metadata": {},
   "outputs": [
    {
     "data": {
      "image/png": "[encoded data removed]",
      "text/plain": [
       "<Figure size 720x288 with 1 Axes>"
      ]
     },
     "metadata": {
      "needs_background": "light"
     },
     "output_type": "display_data"
    }
   ],
   "source": [
    "import numpy as np\n",
    "import pandas as pd\n",
    "import matplotlib.pyplot as plt\n",
    "import seaborn as sns\n",
    "plt.figure(figsize=(10,4))\n",
    "k= np.random.normal(loc=0,scale=0.8,size=100)\n",
    "z1=pd.DataFrame(k).quantile([0.25,0.50,0.75])\n",
    "Q1=z1.loc[0.25,]\n",
    "Q3=z1.loc[0.75,]\n",
    "IQR=Q3-Q1\n",
    "Lower_limit = Q1 -(1.5 * IQR)\n",
    "Upper_limit = Q3 + (1.5 * IQR)\n",
    "plt.text(z1.loc[0.25,],-0.1,'Q1')\n",
    "plt.text(z1.loc[0.50,],-0.1,'Q2')\n",
    "plt.text(z1.loc[0.75,],-0.1,'Q3')\n",
    "plt.text(Lower_limit,-0.1,'Lower_limit')\n",
    "plt.text(Upper_limit,-0.1,'Upper_Limit')\n",
    "sns.boxplot(k,color=\"green\")\n",
    "plt.title(\"Quartiles\")\n",
    "plt.show()"
   ]
  },
  {
   "cell_type": "code",
   "execution_count": 80,
   "metadata": {},
   "outputs": [
    {
     "data": {
      "text/html": [
       "<div>\n",
       "<style scoped>\n",
       "    .dataframe tbody tr th:only-of-type {\n",
       "        vertical-align: middle;\n",
       "    }\n",
       "\n",
       "    .dataframe tbody tr th {\n",
       "        vertical-align: top;\n",
       "    }\n",
       "\n",
       "    .dataframe thead th {\n",
       "        text-align: right;\n",
       "    }\n",
       "</style>\n",
       "<table border=\"1\" class=\"dataframe\">\n",
       "  <thead>\n",
       "    <tr style=\"text-align: right;\">\n",
       "      <th></th>\n",
       "      <th>0</th>\n",
       "    </tr>\n",
       "  </thead>\n",
       "  <tbody>\n",
       "    <tr>\n",
       "      <td>count</td>\n",
       "      <td>100.000000</td>\n",
       "    </tr>\n",
       "    <tr>\n",
       "      <td>mean</td>\n",
       "      <td>-0.069578</td>\n",
       "    </tr>\n",
       "    <tr>\n",
       "      <td>std</td>\n",
       "      <td>0.745960</td>\n",
       "    </tr>\n",
       "    <tr>\n",
       "      <td>min</td>\n",
       "      <td>-1.892941</td>\n",
       "    </tr>\n",
       "    <tr>\n",
       "      <td>25%</td>\n",
       "      <td>-0.565210</td>\n",
       "    </tr>\n",
       "    <tr>\n",
       "      <td>50%</td>\n",
       "      <td>-0.000912</td>\n",
       "    </tr>\n",
       "    <tr>\n",
       "      <td>75%</td>\n",
       "      <td>0.425960</td>\n",
       "    </tr>\n",
       "    <tr>\n",
       "      <td>max</td>\n",
       "      <td>2.393486</td>\n",
       "    </tr>\n",
       "  </tbody>\n",
       "</table>\n",
       "</div>"
      ],
      "text/plain": [
       "                0\n",
       "count  100.000000\n",
       "mean    -0.069578\n",
       "std      0.745960\n",
       "min     -1.892941\n",
       "25%     -0.565210\n",
       "50%     -0.000912\n",
       "75%      0.425960\n",
       "max      2.393486"
      ]
     },
     "execution_count": 80,
     "metadata": {},
     "output_type": "execute_result"
    }
   ],
   "source": [
    "z"
   ]
  },
  {
   "cell_type": "code",
   "execution_count": 81,
   "metadata": {},
   "outputs": [
    {
     "data": {
      "text/plain": [
       "array([-0.19348616,  0.21252428,  1.15784177])"
      ]
     },
     "execution_count": 81,
     "metadata": {},
     "output_type": "execute_result"
    }
   ],
   "source": [
    "np.percentile(z, [25, 50, 75])"
   ]
  },
  {
   "cell_type": "markdown",
   "metadata": {},
   "source": [
    "#### covariance and correlation"
   ]
  },
  {
   "cell_type": "code",
   "execution_count": 48,
   "metadata": {},
   "outputs": [
    {
     "name": "stdout",
     "output_type": "stream",
     "text": [
      "Covariance of A,B is :  330.50000000000006\n",
      "Correlation of A and B is : 0.4006396184902551\n"
     ]
    }
   ],
   "source": [
    "import numpy as np\n",
    "A=[25,35,21,67,98,67,24]\n",
    "B =[52,10,5,98,52,36,69]\n",
    "X=A-np.mean(A)\n",
    "Y=B-np.mean(B)\n",
    "cov=np.sum(X*Y)/(len(A)-1)\n",
    "print(\"Covariance of A,B is : \",cov)\n",
    "#### calculate sq. Root (Var(A)*Var(B)):\n",
    "varA= np.var(A)\n",
    "varB= np.var(B)\n",
    "sqrootofAandB=np.sqrt(varA*varB)\n",
    "corr=cov/sqrootofAandB\n",
    "print(\"Correlation of A and B is :\",corr)"
   ]
  },
  {
   "cell_type": "code",
   "execution_count": 51,
   "metadata": {},
   "outputs": [
    {
     "data": {
      "text/plain": [
       "680510.9854227405"
      ]
     },
     "execution_count": 51,
     "metadata": {},
     "output_type": "execute_result"
    }
   ],
   "source": [
    "varA*varB"
   ]
  },
  {
   "cell_type": "code",
   "execution_count": 50,
   "metadata": {},
   "outputs": [
    {
     "data": {
      "text/plain": [
       "824.9308973621612"
      ]
     },
     "execution_count": 50,
     "metadata": {},
     "output_type": "execute_result"
    }
   ],
   "source": [
    "np.sqrt(varA*varB)"
   ]
  },
  {
   "cell_type": "code",
   "execution_count": 9,
   "metadata": {},
   "outputs": [],
   "source": [
    "X=A-np.mean(A)"
   ]
  },
  {
   "cell_type": "code",
   "execution_count": 6,
   "metadata": {},
   "outputs": [
    {
     "data": {
      "text/plain": [
       "48.142857142857146"
      ]
     },
     "execution_count": 6,
     "metadata": {},
     "output_type": "execute_result"
    }
   ],
   "source": [
    "(25+35+21+67+98+67+24) / 7 "
   ]
  },
  {
   "cell_type": "code",
   "execution_count": 10,
   "metadata": {},
   "outputs": [],
   "source": [
    "Y=B-np.mean(B)"
   ]
  },
  {
   "cell_type": "code",
   "execution_count": 20,
   "metadata": {},
   "outputs": [
    {
     "data": {
      "text/plain": [
       "1983.0000000000005"
      ]
     },
     "execution_count": 20,
     "metadata": {},
     "output_type": "execute_result"
    }
   ],
   "source": [
    "np.sum(X*Y)"
   ]
  },
  {
   "cell_type": "code",
   "execution_count": 21,
   "metadata": {},
   "outputs": [
    {
     "data": {
      "text/plain": [
       "1933"
      ]
     },
     "execution_count": 21,
     "metadata": {},
     "output_type": "execute_result"
    }
   ],
   "source": [
    "1063+870"
   ]
  },
  {
   "cell_type": "markdown",
   "metadata": {},
   "source": [
    "#### exponential distribution"
   ]
  },
  {
   "cell_type": "code",
   "execution_count": 71,
   "metadata": {},
   "outputs": [
    {
     "name": "stdout",
     "output_type": "stream",
     "text": [
      "CDF of Exponential: 0.7364028618842733\n",
      "PDF of Exponential: 0.08786571270524225\n",
      "Mean of Exponential: 3.0\n",
      "Variance of Exponential: 9.0\n"
     ]
    }
   ],
   "source": [
    "#PDF of the exponential distribution\n",
    "def PDFExponential(lamb,x): #lamb = lambda(1/lambda(which is in possion disritbution))\n",
    "    if x<=0:\n",
    "        pdf=0\n",
    "    else:\n",
    "        pdf=lamb*np.exp(-lamb*x)\n",
    "    return pdf\n",
    "#CDF of the exponential distribution\n",
    "def CDFExponential(lamb,x): #lamb = lambda(1/lambda(which is in possion disritbution))\n",
    "    if x<=0:\n",
    "        cdf=0\n",
    "    else:\n",
    "        cdf=1-np.exp(-lamb*x)\n",
    "    return cdf\n",
    "#mean of the exponential distribution\n",
    "def MeanExponential(lamb):\n",
    "    return 1/lamb;\n",
    "def VarianceExponential(lamb):\n",
    "    return (1/lamb)**2;\n",
    "\n",
    "#CDF,PDF of the exponential distribution\n",
    "#when lambda=1/5 and x=3\n",
    "lamb,x=1/3,4\n",
    "print(\"CDF of Exponential:\",CDFExponential(lamb,x))\n",
    "print(\"PDF of Exponential:\",PDFExponential(lamb,x))\n",
    "print(\"Mean of Exponential:\",MeanExponential(lamb))\n",
    "print(\"Variance of Exponential:\",VarianceExponential(lamb))\n"
   ]
  },
  {
   "cell_type": "markdown",
   "metadata": {},
   "source": [
    "###### Given the website receives on average 3 hits per minute and the average wait time between hits is .86 minutes, it seems unlikely — but not impossible — a wait-time of 4.5 minutes for another hit would happen. From the calculation. it seems this would only occur 8.78% of the time."
   ]
  },
  {
   "cell_type": "code",
   "execution_count": 59,
   "metadata": {},
   "outputs": [
    {
     "name": "stdout",
     "output_type": "stream",
     "text": [
      "0.950212931632136\n",
      "0.03319137891190929\n"
     ]
    }
   ],
   "source": [
    "lamb=1/1.5\n",
    "x=4.5\n",
    "print(CDFExponential(lamb,x))\n",
    "print(PDFExponential(lamb,x))"
   ]
  },
  {
   "cell_type": "code",
   "execution_count": 28,
   "metadata": {},
   "outputs": [
    {
     "data": {
      "image/png": "[encoded data removed]",
      "text/plain": [
       "<Figure size 576x288 with 1 Axes>"
      ]
     },
     "metadata": {
      "needs_background": "light"
     },
     "output_type": "display_data"
    }
   ],
   "source": [
    "import matplotlib.pyplot as plt\n",
    "import seaborn as sns\n",
    "x=(1,2,3,4,5)\n",
    "p= (0.2, 0.5, 0.3,0.6,0.8)\n",
    "plt.figure(figsize=(8,4))\n",
    "plt.grid(True)\n",
    "plt.bar(x,p,align='center')\n",
    "plt.title(\"Disceret Random Variables\")\n",
    "plt.ylabel(\"Probabilities\")\n",
    "plt.xlabel(\"X-Variables\")\n",
    "plt.show()"
   ]
  },
  {
   "cell_type": "code",
   "execution_count": 33,
   "metadata": {},
   "outputs": [
    {
     "data": {
      "text/plain": [
       "<BarContainer object of 6 artists>"
      ]
     },
     "execution_count": 33,
     "metadata": {},
     "output_type": "execute_result"
    },
    {
     "data": {
      "image/png": "[encoded data removed]",
      "text/plain": [
       "<Figure size 432x288 with 1 Axes>"
      ]
     },
     "metadata": {
      "needs_background": "light"
     },
     "output_type": "display_data"
    }
   ],
   "source": [
    "import numpy as np\n",
    "x1=[1,2,3,4,5,6]\n",
    "p1=np.array(x)/sum(x)\n",
    "plt.bar(x1,p1,align='center')"
   ]
  },
  {
   "cell_type": "code",
   "execution_count": 7,
   "metadata": {},
   "outputs": [
    {
     "data": {
      "text/plain": [
       "(-3, 3)"
      ]
     },
     "execution_count": 7,
     "metadata": {},
     "output_type": "execute_result"
    },
    {
     "data": {
      "image/png": "[encoded data removed]",
      "text/plain": [
       "<Figure size 720x432 with 1 Axes>"
      ]
     },
     "metadata": {
      "needs_background": "light"
     },
     "output_type": "display_data"
    }
   ],
   "source": [
    "import matplotlib.pyplot as plt\n",
    "import seaborn as sns\n",
    "import numpy as np\n",
    "from scipy import stats\n",
    "x= np.random.normal(loc=0,scale=0.8,size=100)\n",
    "m=x.mean()\n",
    "plt.figure(figsize=(10,6))\n",
    "sns.kdeplot(x,shade=True);\n",
    "plt.plot(np.full((10,1),x.mean()),[0.00,0.05,0.10,0.15,0.20,0.25,0.30,0.35,0.40,0.45],linestyle='--',c='g')\n",
    "plt.hlines(0.25,xmin=-1,xmax=+1,color='r')\n",
    "plt.hlines(0.05,xmin=-2,xmax=+2,color='r')\n",
    "plt.hlines(0.00,xmin=-3,xmax=+3,color='r')\n",
    "plt.text(round(m,2),0.45, 'mean ='+str(round(m,2)))\n",
    "plt.text(-0.75,0.26, '34%')\n",
    "plt.text(0.5,0.26, '34%')\n",
    "plt.text(-0.5,0.23,\"  one std total 68%\")\n",
    "plt.text(-1.5,0.06,\"47.5%\")\n",
    "plt.text(1.2,0.06,\"47.5%\")\n",
    "plt.text(-0.5,0.06,\"two std total 95%\")\n",
    "plt.text(-2,0.01, \"49.8%\")\n",
    "plt.text(1.7,0.01, \"49.8%\")\n",
    "plt.text(-0.5,0.01,\"three std total 99.6%\")\n",
    "plt.title(\"Continuous Random Variables\")\n",
    "plt.xlim(-3,3)"
   ]
  },
  {
   "cell_type": "markdown",
   "metadata": {},
   "source": [
    "#### hypothesis testing"
   ]
  },
  {
   "cell_type": "code",
   "execution_count": 1,
   "metadata": {},
   "outputs": [],
   "source": [
    "import pandas as pd\n",
    "import numpy as np\n",
    "import matplotlib.pyplot as plt\n",
    "import seaborn as sns\n",
    "df=pd.read_csv(\"winequality_red.csv\")"
   ]
  },
  {
   "cell_type": "code",
   "execution_count": 2,
   "metadata": {},
   "outputs": [
    {
     "data": {
      "text/plain": [
       "Index(['fixed acidity', 'volatile acidity', 'citric acid', 'residual sugar',\n",
       "       'chlorides', 'free sulfur dioxide', 'total sulfur dioxide', 'density',\n",
       "       'pH', 'sulphates', 'alcohol', 'quality'],\n",
       "      dtype='object')"
      ]
     },
     "execution_count": 2,
     "metadata": {},
     "output_type": "execute_result"
    }
   ],
   "source": [
    "df.columns"
   ]
  },
  {
   "cell_type": "code",
   "execution_count": 3,
   "metadata": {},
   "outputs": [
    {
     "data": {
      "text/html": [
       "<div>\n",
       "<style scoped>\n",
       "    .dataframe tbody tr th:only-of-type {\n",
       "        vertical-align: middle;\n",
       "    }\n",
       "\n",
       "    .dataframe tbody tr th {\n",
       "        vertical-align: top;\n",
       "    }\n",
       "\n",
       "    .dataframe thead th {\n",
       "        text-align: right;\n",
       "    }\n",
       "</style>\n",
       "<table border=\"1\" class=\"dataframe\">\n",
       "  <thead>\n",
       "    <tr style=\"text-align: right;\">\n",
       "      <th></th>\n",
       "      <th>fixed acidity</th>\n",
       "      <th>volatile acidity</th>\n",
       "      <th>citric acid</th>\n",
       "      <th>residual sugar</th>\n",
       "      <th>chlorides</th>\n",
       "      <th>free sulfur dioxide</th>\n",
       "      <th>total sulfur dioxide</th>\n",
       "      <th>density</th>\n",
       "      <th>pH</th>\n",
       "      <th>sulphates</th>\n",
       "      <th>alcohol</th>\n",
       "      <th>quality</th>\n",
       "    </tr>\n",
       "  </thead>\n",
       "  <tbody>\n",
       "    <tr>\n",
       "      <td>0</td>\n",
       "      <td>7.4</td>\n",
       "      <td>0.70</td>\n",
       "      <td>0.00</td>\n",
       "      <td>1.9</td>\n",
       "      <td>0.076</td>\n",
       "      <td>11.0</td>\n",
       "      <td>34.0</td>\n",
       "      <td>0.9978</td>\n",
       "      <td>3.51</td>\n",
       "      <td>0.56</td>\n",
       "      <td>9.4</td>\n",
       "      <td>5</td>\n",
       "    </tr>\n",
       "    <tr>\n",
       "      <td>1</td>\n",
       "      <td>7.8</td>\n",
       "      <td>0.88</td>\n",
       "      <td>0.00</td>\n",
       "      <td>2.6</td>\n",
       "      <td>0.098</td>\n",
       "      <td>25.0</td>\n",
       "      <td>67.0</td>\n",
       "      <td>0.9968</td>\n",
       "      <td>3.20</td>\n",
       "      <td>0.68</td>\n",
       "      <td>9.8</td>\n",
       "      <td>5</td>\n",
       "    </tr>\n",
       "    <tr>\n",
       "      <td>2</td>\n",
       "      <td>7.8</td>\n",
       "      <td>0.76</td>\n",
       "      <td>0.04</td>\n",
       "      <td>2.3</td>\n",
       "      <td>0.092</td>\n",
       "      <td>15.0</td>\n",
       "      <td>54.0</td>\n",
       "      <td>0.9970</td>\n",
       "      <td>3.26</td>\n",
       "      <td>0.65</td>\n",
       "      <td>9.8</td>\n",
       "      <td>5</td>\n",
       "    </tr>\n",
       "    <tr>\n",
       "      <td>3</td>\n",
       "      <td>11.2</td>\n",
       "      <td>0.28</td>\n",
       "      <td>0.56</td>\n",
       "      <td>1.9</td>\n",
       "      <td>0.075</td>\n",
       "      <td>17.0</td>\n",
       "      <td>60.0</td>\n",
       "      <td>0.9980</td>\n",
       "      <td>3.16</td>\n",
       "      <td>0.58</td>\n",
       "      <td>9.8</td>\n",
       "      <td>6</td>\n",
       "    </tr>\n",
       "    <tr>\n",
       "      <td>4</td>\n",
       "      <td>7.4</td>\n",
       "      <td>0.70</td>\n",
       "      <td>0.00</td>\n",
       "      <td>1.9</td>\n",
       "      <td>0.076</td>\n",
       "      <td>11.0</td>\n",
       "      <td>34.0</td>\n",
       "      <td>0.9978</td>\n",
       "      <td>3.51</td>\n",
       "      <td>0.56</td>\n",
       "      <td>9.4</td>\n",
       "      <td>5</td>\n",
       "    </tr>\n",
       "  </tbody>\n",
       "</table>\n",
       "</div>"
      ],
      "text/plain": [
       "   fixed acidity  volatile acidity  citric acid  residual sugar  chlorides  \\\n",
       "0            7.4              0.70         0.00             1.9      0.076   \n",
       "1            7.8              0.88         0.00             2.6      0.098   \n",
       "2            7.8              0.76         0.04             2.3      0.092   \n",
       "3           11.2              0.28         0.56             1.9      0.075   \n",
       "4            7.4              0.70         0.00             1.9      0.076   \n",
       "\n",
       "   free sulfur dioxide  total sulfur dioxide  density    pH  sulphates  \\\n",
       "0                 11.0                  34.0   0.9978  3.51       0.56   \n",
       "1                 25.0                  67.0   0.9968  3.20       0.68   \n",
       "2                 15.0                  54.0   0.9970  3.26       0.65   \n",
       "3                 17.0                  60.0   0.9980  3.16       0.58   \n",
       "4                 11.0                  34.0   0.9978  3.51       0.56   \n",
       "\n",
       "   alcohol  quality  \n",
       "0      9.4        5  \n",
       "1      9.8        5  \n",
       "2      9.8        5  \n",
       "3      9.8        6  \n",
       "4      9.4        5  "
      ]
     },
     "execution_count": 3,
     "metadata": {},
     "output_type": "execute_result"
    }
   ],
   "source": [
    "df.head()"
   ]
  },
  {
   "cell_type": "code",
   "execution_count": 25,
   "metadata": {},
   "outputs": [
    {
     "name": "stdout",
     "output_type": "stream",
     "text": [
      "z-score : -0.20064924125910572\n"
     ]
    }
   ],
   "source": [
    "actual_mean=df['density'].mean()\n",
    "actual_std=df['density'].std()\n",
    "random_samples=df['density'].sample(n=100)\n",
    "population_mean=random_samples.mean()\n",
    "population_std=random_samples.std()\n",
    "standard_error=population_std/np.sqrt(100)\n",
    "z_score=(actual_mean-population_mean)/standard_error\n",
    "print(\"z-score :\",z_score)"
   ]
  },
  {
   "cell_type": "code",
   "execution_count": 29,
   "metadata": {},
   "outputs": [
    {
     "name": "stdout",
     "output_type": "stream",
     "text": [
      "p-value : 0.3894334037653505\n",
      "accept null hypothesis\n"
     ]
    }
   ],
   "source": [
    "import pandas as pd\n",
    "from scipy import stats\n",
    "from statsmodels.stats import weightstats as stests\n",
    "ztest ,pval = stests.ztest(df['density'], x2=None, value=population_mean)\n",
    "print(\"p-value :\",float(pval))\n",
    "if pval<0.05:\n",
    "    print(\"reject null hypothesis\")\n",
    "else:\n",
    "    print(\"accept null hypothesis\")"
   ]
  },
  {
   "cell_type": "code",
   "execution_count": 24,
   "metadata": {},
   "outputs": [
    {
     "data": {
      "text/plain": [
       "0.00019657378803241885"
      ]
     },
     "execution_count": 24,
     "metadata": {},
     "output_type": "execute_result"
    }
   ],
   "source": [
    "standard_error"
   ]
  },
  {
   "cell_type": "code",
   "execution_count": 71,
   "metadata": {},
   "outputs": [
    {
     "name": "stdout",
     "output_type": "stream",
     "text": [
      "t-test = 5.569318338635919\n",
      "p-value = 2.21872153129159e-06\n",
      "degree of freedom 38\n",
      "accept null hypothesis\n"
     ]
    }
   ],
   "source": [
    "## Import the packages\n",
    "import numpy as np\n",
    "from scipy import stats\n",
    "## Define 2 random distributions\n",
    "#Sample Size\n",
    "N = 20\n",
    "#Gaussian distributed data with mean = 2 and var = 1\n",
    "# example a is heights of male\n",
    "a = np.random.randn(N) + 2\n",
    "# example b is heights of female\n",
    "#Gaussian distributed data with with mean = 0 and var = 1\n",
    "b = np.random.randn(N)\n",
    "\n",
    "t2, p2 = stats.ttest_ind(a,b)\n",
    "print(\"t-test = \" + str(t2))\n",
    "print(\"p-value = \" + str(p2))\n",
    "print(\"degree of freedom\",df)\n",
    "if pval<0.05:\n",
    "    print(\"reject null hypothesis\")\n",
    "else:\n",
    "    print(\"accept null hypothesis\")\n"
   ]
  },
  {
   "cell_type": "code",
   "execution_count": null,
   "metadata": {},
   "outputs": [],
   "source": []
  }
 ],
 "metadata": {
  "kernelspec": {
   "display_name": "Python 3",
   "language": "python",
   "name": "python3"
  },
  "language_info": {
   "codemirror_mode": {
    "name": "ipython",
    "version": 3
   },
   "file_extension": ".py",
   "mimetype": "text/x-python",
   "name": "python",
   "nbconvert_exporter": "python",
   "pygments_lexer": "ipython3",
   "version": "3.7.3"
  }
 },
 "nbformat": 4,
 "nbformat_minor": 2
}
